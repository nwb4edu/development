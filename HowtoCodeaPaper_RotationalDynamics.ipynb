{
 "cells": [
  {
   "cell_type": "markdown",
   "id": "bf7937ad",
   "metadata": {},
   "source": [
    "# How to `Code` a Paper\n",
    "\n",
    "This notebook will help you regenerate some of the figures in [Churchland & Cunningham et al., 2012](https://www.nature.com/articles/nature11129), as well as understand how changing parameters in the analysis change these visualizations (and how we interpret them).\n",
    "\n",
    "<hr>"
   ]
  },
  {
   "cell_type": "markdown",
   "id": "1bcdf393",
   "metadata": {},
   "source": [
    "## Setup\n",
    "\n",
    "First, we'll clone and install a super useful **jPCA** package, written by [Benjamin Antin](https://github.com/bantin) at Columbia University. If you've already installed this package, the cell below will simply import it."
   ]
  },
  {
   "cell_type": "code",
   "execution_count": null,
   "id": "7b70dc4d",
   "metadata": {},
   "outputs": [],
   "source": [
    "try:\n",
    "    import jPCA\n",
    "    from jPCA.util import load_churchland_data, plot_projections\n",
    "    print('jPCA imported.')\n",
    "except:\n",
    "    !git clone https://github.com/bantin/jPCA.git\n",
    "    %cd jPCA\n",
    "    !pip install ."
   ]
  },
  {
   "cell_type": "markdown",
   "id": "08664d57",
   "metadata": {},
   "source": [
    "After installing and/or importing the jPCA package, we also need to import `numpy` and `matplotlib.pyplot`."
   ]
  },
  {
   "cell_type": "code",
   "execution_count": null,
   "id": "d3a17d22",
   "metadata": {},
   "outputs": [],
   "source": [
    "import numpy as np\n",
    "import matplotlib.pyplot as plt\n",
    "\n",
    "print('Packages imported.')"
   ]
  },
  {
   "cell_type": "markdown",
   "id": "d9f0139f",
   "metadata": {},
   "source": [
    "## Load data and inspect it\n",
    "\n",
    "Below, we'll use the helper function `load_churchland_data` to load the Churchland & Cunningham et al. (2012) data that is hosted on the [Churchland lab website](https://churchland.zuckermaninstitute.columbia.edu/content/code). We'll also first take a look at one of the objects, `data`."
   ]
  },
  {
   "cell_type": "code",
   "execution_count": null,
   "id": "9c18686f",
   "metadata": {},
   "outputs": [],
   "source": [
    "import urllib.request\n",
    "\n",
    "# URL of data to download\n",
    "data_url = 'https://github.com/nwb4edu/development/blob/0f181c8092d79278fcb0320d9f53bc33fbb0df85/exampleData.mat?raw=true'\n",
    "\n",
    "# Get the data and save it locally as \"sleep_data.txt\"\n",
    "path, headers = urllib.request.urlretrieve(data_url, './exampleData.mat')\n",
    "\n",
    "data, times = load_churchland_data(path)\n",
    "\n",
    "print(len(data)) # Show the length of data\n",
    "data[:10]        # Look at the first 10 entries in data"
   ]
  },
  {
   "cell_type": "markdown",
   "id": "e440dabb",
   "metadata": {},
   "source": [
    "Hmm, why is `data` a 108-length list of arrays? If we read carefully in the paper, it says:\n",
    "\n",
    ">\"In the ‘maze task’ monkeys J and N made both straight reaches and reaches that curved around one or more intervening barriers. This task was beneficial because of the large variety of different reaches that could be evoked. Typically we used 27 conditions: each providing a particular arrangement of target and barriers. Monkey J performed the task for four different sets of 27 conditions, resulting in four datasets (J1 through J4). For the monkey J-array and N-array datasets, **108 conditions were presented in the same recording session**.\"\n",
    "\n",
    "There are four different sets of 27 conditions (giving 108 total), each a different arrangement of a target and barrier. Each of the arrays within contains a time x neuron matrix for each condition (hereafter, for clarity, we'll call these **trials**. We can inspect the first array to see how many neurons there are."
   ]
  },
  {
   "cell_type": "code",
   "execution_count": null,
   "id": "03b74d8a",
   "metadata": {},
   "outputs": [],
   "source": [
    "data[0].shape"
   ]
  },
  {
   "cell_type": "code",
   "execution_count": null,
   "id": "b6b3f680",
   "metadata": {},
   "outputs": [],
   "source": [
    "print(len(times))  # Show the length of time\n",
    "times[:10]         # Look at the first 10 entries in time"
   ]
  },
  {
   "cell_type": "markdown",
   "id": "8c19a9a4",
   "metadata": {},
   "source": [
    "The meaning of the `times` length is a bit trickier to derive from the paper, but the [documentation](https://www.dropbox.com/sh/2q3m5fqfscwf95j/AAC3WV90hHdBgz0Np4RAKJpYa?dl=0&preview=NOTES.pdf) for `exampleMat.mat` tells us that these times are in milliseconds (ms), and start 50 ms before the reach at time 0. A firing rate was sampled every 10 ms, so this is why these timestamps are 10 apart."
   ]
  },
  {
   "cell_type": "markdown",
   "id": "cb45efcf",
   "metadata": {},
   "source": [
    "## Visually explore the data\n",
    "Now that we understand the structure of the data, we can take a look at some of these trials. Below, we'll create a firing rate plot for one trial at a time. In this plot, each neuron will be a different color."
   ]
  },
  {
   "cell_type": "code",
   "execution_count": null,
   "id": "ce4e795b",
   "metadata": {},
   "outputs": [],
   "source": [
    "trial = data[10] # You can change the index here if you'd like to look through different trials.\n",
    "\n",
    "def plotFiringRates(times,trial):    \n",
    "    plt.plot(times,trial)\n",
    "    plt.xlabel('Time (ms)')\n",
    "    plt.ylabel('Firing Rate (Hz)')\n",
    "    plt.vlines(0,np.min(trial),np.max(trial),color='gray',linestyle='--')\n",
    "    plt.show()\n",
    "    \n",
    "plotFiringRates(times,trial)"
   ]
  },
  {
   "cell_type": "markdown",
   "id": "87cf7c9f",
   "metadata": {},
   "source": [
    "As you can appreciate from this plot, it is hard to make much sense of what this population of neurons are doing. Some neurons respond to the plotted condition, but not others.\n",
    "\n",
    "We could investigate what happens if we average across all of the neurons, and then plot to compare trials against one another. In this plot, each line is a different condition."
   ]
  },
  {
   "cell_type": "code",
   "execution_count": null,
   "id": "7003a451",
   "metadata": {},
   "outputs": [],
   "source": [
    "all_trials = np.zeros((61,108))\n",
    "\n",
    "for idx,this_trial in enumerate(data):\n",
    "    trial_average = np.mean(this_trial,axis=1)\n",
    "    all_trials[:,idx] = trial_average\n",
    "    \n",
    "plotFiringRates(times,all_trials)"
   ]
  },
  {
   "cell_type": "markdown",
   "id": "4f3ddaeb",
   "metadata": {},
   "source": [
    "This is also not particularly informative! Clearly, neural activity increases overall when a monkey initiates a reach, but what does this tell us about neural coding?\n",
    "\n",
    "Let's do one final check, where we look at a single cell across multiple conditions. This is similar to Figure 2 of the paper, except we won't color these by preparatory activity.\n",
    "\n",
    "Change the value of `neuron` below (keeping in mind how many neurons we have in total as well as 0 indexing in Python!) to look through a few neurons for patterns."
   ]
  },
  {
   "cell_type": "code",
   "execution_count": null,
   "id": "4c923296",
   "metadata": {},
   "outputs": [],
   "source": [
    "neuron = 100\n",
    "\n",
    "trials_for_neuron = np.zeros((61,108))\n",
    "\n",
    "for idx,this_trial in enumerate(data):\n",
    "    trials_for_neuron[:,idx] = this_trial[:,neuron]\n",
    "    \n",
    "plotFiringRates(times,trials_for_neuron)"
   ]
  },
  {
   "cell_type": "markdown",
   "id": "c9fcbaf1",
   "metadata": {},
   "source": [
    "In summary, we can learn a few things away from the data exploration above:\n",
    "\n",
    "1. Neural activity increases overall when the monkey reaches.\n",
    "2. Individual neurons show different patterns of responses to reaches. Some neurons increase their firing rate to any reach, others are more selective. The timing of their firing rate variation also varies after the reach."
   ]
  },
  {
   "cell_type": "markdown",
   "id": "caf47c09",
   "metadata": {},
   "source": [
    "## jPCA \n",
    "\n",
    "Okay, enough of the old school, simple analyses! Below, we'll use jPCA to retain information from each individual neuron and each condition, looking at how each neuron moves through state space over time. To create our jPCA plot, we'll use the `jPCA` package."
   ]
  },
  {
   "cell_type": "code",
   "execution_count": null,
   "id": "0f3368fd",
   "metadata": {},
   "outputs": [],
   "source": [
    "# Create a jPCA object\n",
    "jpca = jPCA.JPCA(num_jpcs=6)\n",
    "\n",
    "# Fit the jPCA object to data\n",
    "projected, full_data_var, pca_var_capt, jpca_var_capt = jpca.fit(data, times=times, tstart=-50, tend=150)\n",
    "\n",
    "# Plot the projected data\n",
    "fig, axes = plt.subplots(1, 2, figsize=(10, 5))\n",
    "plot_projections(projected, axis=axes[0], x_idx=0, y_idx=1) # Plot the first jPCA plane\n",
    "plot_projections(projected, axis=axes[1], x_idx=2, y_idx=3) # Plot the second jPCA plane\n",
    "\n",
    "axes[0].set_title('jPCA Plane 1')\n",
    "axes[1].set_title('jPCA Plane 2')\n",
    "plt.tight_layout()\n",
    "plt.show()"
   ]
  },
  {
   "cell_type": "markdown",
   "id": "05ea5bec",
   "metadata": {},
   "source": [
    "Above, we've generated figures really similar to Figure 3. However, the utility of working with this data live is that we can change features of the analysis and observe how this changes the plots (and our interpretation of the data). Try the following with the code:\n",
    "* By default, the jPCA is fit to -50 ms to 150 ms of the data. Change `tend` to include more of the data in the analysis, and observe how this changes the PCA plots.\n",
    "* In the paper, Churchland & Cunningham use jPCA to search for the best plane in the first 6 jPCs. However, it's possible to look through more than just 6! Change `num_jpcs` above and observe how this changes the rotations. <font color='red'>-- this is currently not working, need to figure out why</font>\n",
    "* **Bonus**: What dicates the coloring of the lines here? Dig into `utils` to find out."
   ]
  }
 ],
 "metadata": {
  "kernelspec": {
   "display_name": "Python 3",
   "language": "python",
   "name": "python3"
  },
  "language_info": {
   "codemirror_mode": {
    "name": "ipython",
    "version": 3
   },
   "file_extension": ".py",
   "mimetype": "text/x-python",
   "name": "python",
   "nbconvert_exporter": "python",
   "pygments_lexer": "ipython3",
   "version": "3.7.3"
  }
 },
 "nbformat": 4,
 "nbformat_minor": 5
}
